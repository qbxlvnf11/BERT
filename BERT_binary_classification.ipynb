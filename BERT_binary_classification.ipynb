{
 "cells": [
  {
   "cell_type": "markdown",
   "metadata": {},
   "source": [
    "# Data: Impermium_verification_labels"
   ]
  },
  {
   "cell_type": "code",
   "execution_count": 1,
   "metadata": {},
   "outputs": [],
   "source": [
    "import numpy as np\n",
    "import pandas as pd\n",
    "import matplotlib as mpl\n",
    "import matplotlib.pylab as plt\n",
    "from IPython.display import clear_output\n",
    "\n",
    "from sklearn.model_selection import train_test_split"
   ]
  },
  {
   "cell_type": "code",
   "execution_count": 2,
   "metadata": {},
   "outputs": [],
   "source": [
    "# data load\n",
    "data = pd.read_csv('./data/impermium_verification_labels.csv', delimiter = ',', skiprows = 1,\n",
    "                   names = ['id', 'Insult', 'Date', 'Comment', 'Usage'], usecols=['Insult', 'Comment'])"
   ]
  },
  {
   "cell_type": "code",
   "execution_count": 3,
   "metadata": {},
   "outputs": [
    {
     "data": {
      "text/html": [
       "<div>\n",
       "<style scoped>\n",
       "    .dataframe tbody tr th:only-of-type {\n",
       "        vertical-align: middle;\n",
       "    }\n",
       "\n",
       "    .dataframe tbody tr th {\n",
       "        vertical-align: top;\n",
       "    }\n",
       "\n",
       "    .dataframe thead th {\n",
       "        text-align: right;\n",
       "    }\n",
       "</style>\n",
       "<table border=\"1\" class=\"dataframe\">\n",
       "  <thead>\n",
       "    <tr style=\"text-align: right;\">\n",
       "      <th></th>\n",
       "      <th>Insult</th>\n",
       "      <th>Comment</th>\n",
       "    </tr>\n",
       "  </thead>\n",
       "  <tbody>\n",
       "    <tr>\n",
       "      <td>0</td>\n",
       "      <td>0</td>\n",
       "      <td>\"like this if you are a tribe fan\"</td>\n",
       "    </tr>\n",
       "    <tr>\n",
       "      <td>1</td>\n",
       "      <td>1</td>\n",
       "      <td>\"you're idiot.......................\"</td>\n",
       "    </tr>\n",
       "    <tr>\n",
       "      <td>2</td>\n",
       "      <td>1</td>\n",
       "      <td>\"I am a woman Babs, and the only \"war on women...</td>\n",
       "    </tr>\n",
       "    <tr>\n",
       "      <td>3</td>\n",
       "      <td>1</td>\n",
       "      <td>\"WOW &amp; YOU BENEFITTED SO MANY WINS THIS YEAR F...</td>\n",
       "    </tr>\n",
       "    <tr>\n",
       "      <td>4</td>\n",
       "      <td>1</td>\n",
       "      <td>\"haha green me red you now loser whos winning ...</td>\n",
       "    </tr>\n",
       "    <tr>\n",
       "      <td>5</td>\n",
       "      <td>0</td>\n",
       "      <td>\"\\nMe and God both hate-faggots.\\n\\nWhat's the...</td>\n",
       "    </tr>\n",
       "    <tr>\n",
       "      <td>6</td>\n",
       "      <td>1</td>\n",
       "      <td>\"Oh go kiss the ass of a goat....and you DUMMY...</td>\n",
       "    </tr>\n",
       "    <tr>\n",
       "      <td>7</td>\n",
       "      <td>0</td>\n",
       "      <td>\"Not a chance Kid, you're wrong.\"</td>\n",
       "    </tr>\n",
       "    <tr>\n",
       "      <td>8</td>\n",
       "      <td>0</td>\n",
       "      <td>\"On Some real Shit FUck LIVE JASMIN!!!\"</td>\n",
       "    </tr>\n",
       "    <tr>\n",
       "      <td>9</td>\n",
       "      <td>1</td>\n",
       "      <td>\"ok but where the hell was it released?you all...</td>\n",
       "    </tr>\n",
       "  </tbody>\n",
       "</table>\n",
       "</div>"
      ],
      "text/plain": [
       "   Insult                                            Comment\n",
       "0       0                 \"like this if you are a tribe fan\"\n",
       "1       1              \"you're idiot.......................\"\n",
       "2       1  \"I am a woman Babs, and the only \"war on women...\n",
       "3       1  \"WOW & YOU BENEFITTED SO MANY WINS THIS YEAR F...\n",
       "4       1  \"haha green me red you now loser whos winning ...\n",
       "5       0  \"\\nMe and God both hate-faggots.\\n\\nWhat's the...\n",
       "6       1  \"Oh go kiss the ass of a goat....and you DUMMY...\n",
       "7       0                  \"Not a chance Kid, you're wrong.\"\n",
       "8       0            \"On Some real Shit FUck LIVE JASMIN!!!\"\n",
       "9       1  \"ok but where the hell was it released?you all..."
      ]
     },
     "execution_count": 3,
     "metadata": {},
     "output_type": "execute_result"
    }
   ],
   "source": [
    "data.head(10)"
   ]
  },
  {
   "cell_type": "code",
   "execution_count": 4,
   "metadata": {},
   "outputs": [
    {
     "data": {
      "image/png": "[encoded data removed]",
      "text/plain": [
       "<Figure size 432x288 with 1 Axes>"
      ]
     },
     "metadata": {
      "needs_background": "light"
     },
     "output_type": "display_data"
    }
   ],
   "source": [
    "counts, bins = np.histogram(data['Insult'])\n",
    "\n",
    "y = counts\n",
    "x = bins[:-1]\n",
    "xlabel = [0, 1]\n",
    "plt.title(\"hist\")\n",
    "plt.bar(x, y)\n",
    "plt.xticks(xlabel)\n",
    "plt.yticks()\n",
    "plt.xlabel(\"counts\")\n",
    "plt.ylabel(\"x\")\n",
    "plt.show()"
   ]
  },
  {
   "cell_type": "code",
   "execution_count": 5,
   "metadata": {},
   "outputs": [
    {
     "data": {
      "text/plain": [
       "array(['\"like this if you are a tribe fan\"',\n",
       "       '\"you\\'re idiot.......................\"',\n",
       "       '\"I am a woman Babs, and the only \"war on women\" I see is coming from jackazzes like you.\\\\xa0 I don\\'t need your protection or your ignorant rhetoric masquerading as representing my best interests.\\\\xa0 \"',\n",
       "       ...,\n",
       "       '\"sweetie pie is looking very much like her cousin Maggie E...WHAT A BEAUTY THIS LITTLE ONE IS..Love you all to pieces !!\"',\n",
       "       '\"ball4real where are you with your miami g-ayness\"',\n",
       "       '\"Man....if you are a 3 point shooter, you must love playing with Wade and Bron. \"'],\n",
       "      dtype=object)"
      ]
     },
     "execution_count": 5,
     "metadata": {},
     "output_type": "execute_result"
    }
   ],
   "source": [
    "data['Comment'].values"
   ]
  },
  {
   "cell_type": "code",
   "execution_count": 6,
   "metadata": {},
   "outputs": [],
   "source": [
    "X_train, X_test, y_train, y_test = train_test_split(data['Comment'].values, data['Insult'].values, test_size=0.2, random_state=42)"
   ]
  },
  {
   "cell_type": "code",
   "execution_count": 7,
   "metadata": {},
   "outputs": [
    {
     "data": {
      "text/plain": [
       "(1788,)"
      ]
     },
     "execution_count": 7,
     "metadata": {},
     "output_type": "execute_result"
    }
   ],
   "source": [
    "X_train.shape"
   ]
  },
  {
   "cell_type": "code",
   "execution_count": 8,
   "metadata": {},
   "outputs": [
    {
     "data": {
      "text/plain": [
       "array(['\"Of course you would say that\"',\n",
       "       '\"Go back into hiding Bush... America still hasn\\'t gotten over your failed presidency\"',\n",
       "       '\"Look again. This isn\\'t about the control room when *spoilers* you kill guilty spark.. its when you do the warthog run... it\\'s not \"false\". When the pannels begin to fall, you are at the silent cartographer\\'s island.\"',\n",
       "       '\"Are you and Orochimaru bu.tt buddies too? Disgusting\"',\n",
       "       '\"@Fuck:disqus\\\\xa0@cunt:disqus\\\\xa0@shit:disqus\\\\xa0\\\\n\\\\n@Fuck:disqus\\\\xa0you CNN, I know you certainly have a lot to do with the untimely ends of several of our fellow commenters. \\\\xa0You tried many times to get me, but I\\'m always a step ahead of you.\"',\n",
       "       '\"How would you like to call that mom!\"',\n",
       "       '\"No sir. I love black men and wouldnt trade them for the world. Always treated with respect and always knew how to pick them well cause my mother and father taught me well. No kids btw and currently studying. But ignorant black men like you just fuck society up. Downing black women to reassure yourself that you as an avg black man represents some idyllic shit and black women fail in comparison. Im a good ass woman and can make any man happy preferably black but if he is Latin, White or Asian then thats what it will be. \\\\n\\\\nI thought your comment was ignorance, decided to give you a chance to state your argument effectively but you couldnt hold your own so you failed. Blah\"',\n",
       "       '\"you are a disgrace to dodger fans\"',\n",
       "       '\"@Youknowwhatiiitis: you afro-american negro\\'s only & not blacks from different cultures.\"',\n",
       "       '\"Hey man, glad to hear you\\'re not in serious health straights - as I get \\\\nolder, I worry more and more about the internet people who I follow and \\\\nenjoy to hear from. \\\\n\\\\n\\\\n\\\\nCFS is a motherfucker, and people don\\'t give it enough credit to how \\\\nmuch it can fuck a life up. Fight the good fight man, and if you\\'re ever\\\\n in Australia I\\'ll buy you your carbonated beverage of preference :)\\\\n\"'],\n",
       "      dtype=object)"
      ]
     },
     "execution_count": 8,
     "metadata": {},
     "output_type": "execute_result"
    }
   ],
   "source": [
    "X_train[:10]"
   ]
  },
  {
   "cell_type": "code",
   "execution_count": 9,
   "metadata": {},
   "outputs": [
    {
     "data": {
      "text/plain": [
       "(447,)"
      ]
     },
     "execution_count": 9,
     "metadata": {},
     "output_type": "execute_result"
    }
   ],
   "source": [
    "X_test.shape"
   ]
  },
  {
   "cell_type": "code",
   "execution_count": 10,
   "metadata": {},
   "outputs": [
    {
     "data": {
      "text/plain": [
       "array(['\"Are you ever going to show us some cock or butt?\"',\n",
       "       '\"You may be right.\\\\xa0\"',\n",
       "       '\"EVELYN WE NEW YOU WERE TRASH IN THE BEGINNING BUT AS THE SHOW GREW YOU GOT OUT OF CONTROL AND REALLY SHOWED THE WORLD WHO YOU REALLY ARE TRASH. TRASH IS WHAT YOU ARE AND YOU AND CHAD ARE DESERVING OF EACH OTHER! YOU ALL ARE FROM THE SAME FLOCK!\"',\n",
       "       '\"I\\'m guessing English is not your first language. He was being sarcastic.\"',\n",
       "       '\"Pretend you\\'re a gentleman for a little while and grow up little man.  The adults are talking...\"',\n",
       "       '\"Notice they were listed as good manners...\\\\n\\\\n..for children.\\\\n\\\\nWhich leaves me way in the fucking clear. Fuck Erasmus, anyway.\\\\xa0 Preachy old fuck. \"',\n",
       "       '\"Girls need to learn when to shut up, she is beautiful, she knows it and that\\'s all that really matters you don\\'t know if she unhealthy, be quiet with your words of hate we (the majority of women) are tired if the hate.\"',\n",
       "       '\"Racist?  Seriously?  How stupid are you, exactly?\"',\n",
       "       '\"You are so lucky! \"',\n",
       "       '\"Hey, Einstein, perhaps you should have read and understood what you quoted, since it clearly outlines a war room to blunt any movement post-DNC, not during.\\\\n\\\\nIs it really shocking that the GOP would have a war room in NC, a swing state? \\\\n\\\\nReading is fundamental. \"'],\n",
       "      dtype=object)"
      ]
     },
     "execution_count": 10,
     "metadata": {},
     "output_type": "execute_result"
    }
   ],
   "source": [
    "X_test[:10]"
   ]
  },
  {
   "cell_type": "code",
   "execution_count": 11,
   "metadata": {},
   "outputs": [
    {
     "data": {
      "text/plain": [
       "(447,)"
      ]
     },
     "execution_count": 11,
     "metadata": {},
     "output_type": "execute_result"
    }
   ],
   "source": [
    "y_test.shape"
   ]
  },
  {
   "cell_type": "code",
   "execution_count": 12,
   "metadata": {},
   "outputs": [
    {
     "data": {
      "text/plain": [
       "array([0, 0, 1, 0, 1, 0, 1, 1, 0, 1])"
      ]
     },
     "execution_count": 12,
     "metadata": {},
     "output_type": "execute_result"
    }
   ],
   "source": [
    "y_test[:10]"
   ]
  },
  {
   "cell_type": "markdown",
   "metadata": {},
   "source": [
    "# Preprocessing for BERT"
   ]
  },
  {
   "cell_type": "code",
   "execution_count": 13,
   "metadata": {},
   "outputs": [],
   "source": [
    "#!pip install ktrain"
   ]
  },
  {
   "cell_type": "code",
   "execution_count": 14,
   "metadata": {},
   "outputs": [
    {
     "name": "stdout",
     "output_type": "stream",
     "text": [
      "using Keras version: 2.2.4-tf\n"
     ]
    }
   ],
   "source": [
    "import ktrain\n",
    "from ktrain import text"
   ]
  },
  {
   "cell_type": "markdown",
   "metadata": {},
   "source": [
    "- IMDB"
   ]
  },
  {
   "cell_type": "code",
   "execution_count": 15,
   "metadata": {},
   "outputs": [],
   "source": [
    "# (pre_X_train, pre_y_train), (pre_X_test, pre_y_test), preproc = text.texts_from_folder('./data/aclImdb', \n",
    "#                                                                        maxlen=500, \n",
    "#                                                                        preprocess_mode='bert',\n",
    "#                                                                        train_test_names=['train', \n",
    "#                                                                                          'test'],\n",
    "#                                                                        classes=['pos', 'neg'])"
   ]
  },
  {
   "cell_type": "markdown",
   "metadata": {},
   "source": [
    "- Impermium_verification_labels"
   ]
  },
  {
   "cell_type": "code",
   "execution_count": 16,
   "metadata": {},
   "outputs": [],
   "source": [
    "max_seq_length = 100\n",
    "max_features=8000"
   ]
  },
  {
   "cell_type": "markdown",
   "metadata": {},
   "source": [
    "- References: https://github.com/amaiya/ktrain/blob/master/ktrain/text/data.py"
   ]
  },
  {
   "cell_type": "code",
   "execution_count": 17,
   "metadata": {},
   "outputs": [
    {
     "name": "stdout",
     "output_type": "stream",
     "text": [
      "preprocessing train...\n",
      "language: en\n"
     ]
    },
    {
     "data": {
      "text/html": [
       "done."
      ],
      "text/plain": [
       "<IPython.core.display.HTML object>"
      ]
     },
     "metadata": {},
     "output_type": "display_data"
    },
    {
     "name": "stdout",
     "output_type": "stream",
     "text": [
      "preprocessing test...\n",
      "language: en\n"
     ]
    },
    {
     "data": {
      "text/html": [
       "done."
      ],
      "text/plain": [
       "<IPython.core.display.HTML object>"
      ]
     },
     "metadata": {},
     "output_type": "display_data"
    }
   ],
   "source": [
    "(pre_X_train, pre_y_train), (pre_X_test, pre_y_test), preproc = text.texts_from_array(X_train, y_train, X_test, y_test, \n",
    "                   class_names = [0, 1],\n",
    "                   max_features=max_features, maxlen=max_seq_length, \n",
    "                   val_pct=0.1, ngram_range=1, preprocess_mode='bert', \n",
    "                   lang=None, # auto-detected\n",
    "                   random_state=42,\n",
    "                   verbose=1)"
   ]
  },
  {
   "cell_type": "code",
   "execution_count": 18,
   "metadata": {},
   "outputs": [
    {
     "data": {
      "text/plain": [
       "(2, 1788, 100)"
      ]
     },
     "execution_count": 18,
     "metadata": {},
     "output_type": "execute_result"
    }
   ],
   "source": [
    "np.array(pre_X_train).shape"
   ]
  },
  {
   "cell_type": "code",
   "execution_count": 19,
   "metadata": {},
   "outputs": [
    {
     "data": {
      "text/plain": [
       "[array([[ 101, 1000, 1997, ...,    0,    0,    0],\n",
       "        [ 101, 1000, 2175, ...,    0,    0,    0],\n",
       "        [ 101, 1000, 2298, ...,    0,    0,    0],\n",
       "        ...,\n",
       "        [ 101, 1000, 1045, ...,    0,    0,    0],\n",
       "        [ 101, 1000, 8100, ...,    0,    0,    0],\n",
       "        [ 101, 1000, 5292, ...,    0,    0,    0]]),\n",
       " array([[0, 0, 0, ..., 0, 0, 0],\n",
       "        [0, 0, 0, ..., 0, 0, 0],\n",
       "        [0, 0, 0, ..., 0, 0, 0],\n",
       "        ...,\n",
       "        [0, 0, 0, ..., 0, 0, 0],\n",
       "        [0, 0, 0, ..., 0, 0, 0],\n",
       "        [0, 0, 0, ..., 0, 0, 0]])]"
      ]
     },
     "execution_count": 19,
     "metadata": {},
     "output_type": "execute_result"
    }
   ],
   "source": [
    "pre_X_train"
   ]
  },
  {
   "cell_type": "code",
   "execution_count": 20,
   "metadata": {},
   "outputs": [
    {
     "data": {
      "text/plain": [
       "(1788, 2)"
      ]
     },
     "execution_count": 20,
     "metadata": {},
     "output_type": "execute_result"
    }
   ],
   "source": [
    "pre_y_train.shape"
   ]
  },
  {
   "cell_type": "code",
   "execution_count": 21,
   "metadata": {},
   "outputs": [
    {
     "data": {
      "text/plain": [
       "array([[1., 0.],\n",
       "       [1., 0.],\n",
       "       [1., 0.],\n",
       "       ...,\n",
       "       [1., 0.],\n",
       "       [1., 0.],\n",
       "       [0., 1.]], dtype=float32)"
      ]
     },
     "execution_count": 21,
     "metadata": {},
     "output_type": "execute_result"
    }
   ],
   "source": [
    "pre_y_train"
   ]
  },
  {
   "cell_type": "markdown",
   "metadata": {},
   "source": [
    "# BERT (ktrain module)"
   ]
  },
  {
   "cell_type": "code",
   "execution_count": 22,
   "metadata": {},
   "outputs": [
    {
     "name": "stdout",
     "output_type": "stream",
     "text": [
      "Is Multi-Label? False\n",
      "maxlen is 100\n",
      "done.\n"
     ]
    }
   ],
   "source": [
    "model = text.text_classifier('bert', (pre_X_train, pre_y_train) , preproc=preproc)"
   ]
  },
  {
   "cell_type": "code",
   "execution_count": 23,
   "metadata": {},
   "outputs": [],
   "source": [
    "learner = ktrain.get_learner(model, \n",
    "                             train_data=(pre_X_train, pre_y_train), \n",
    "                             val_data=(pre_X_test, pre_y_test), \n",
    "                             batch_size=32)"
   ]
  },
  {
   "cell_type": "code",
   "execution_count": 24,
   "metadata": {},
   "outputs": [
    {
     "name": "stdout",
     "output_type": "stream",
     "text": [
      "simulating training for different learning rates... this may take a few moments...\n",
      "Train on 1788 samples\n",
      "Epoch 1/1024\n",
      "1788/1788 [==============================] - 39s 22ms/sample - loss: 0.9826 - acc: 0.5218\n",
      "Epoch 2/1024\n",
      "1788/1788 [==============================] - 34s 19ms/sample - loss: 0.8995 - acc: 0.5218\n",
      "Epoch 3/1024\n",
      "1788/1788 [==============================] - 34s 19ms/sample - loss: 0.7745 - acc: 0.5218\n",
      "Epoch 4/1024\n",
      "1788/1788 [==============================] - 34s 19ms/sample - loss: 0.6962 - acc: 0.5481\n",
      "Epoch 5/1024\n",
      "1788/1788 [==============================] - 34s 19ms/sample - loss: 0.6655 - acc: 0.6191\n",
      "Epoch 6/1024\n",
      "1788/1788 [==============================] - 34s 19ms/sample - loss: 0.6154 - acc: 0.6667\n",
      "Epoch 7/1024\n",
      "1788/1788 [==============================] - 34s 19ms/sample - loss: 0.5272 - acc: 0.7360\n",
      "Epoch 8/1024\n",
      "1788/1788 [==============================] - 34s 19ms/sample - loss: 0.4027 - acc: 0.8255\n",
      "Epoch 9/1024\n",
      "1788/1788 [==============================] - 34s 19ms/sample - loss: 0.2869 - acc: 0.8893\n",
      "Epoch 10/1024\n",
      "1788/1788 [==============================] - 34s 19ms/sample - loss: 0.2004 - acc: 0.9251\n",
      "Epoch 11/1024\n",
      "1788/1788 [==============================] - 34s 19ms/sample - loss: 0.1802 - acc: 0.9413\n",
      "Epoch 12/1024\n",
      "1788/1788 [==============================] - 34s 19ms/sample - loss: 0.1316 - acc: 0.9541\n",
      "Epoch 13/1024\n",
      "1788/1788 [==============================] - 34s 19ms/sample - loss: 0.2384 - acc: 0.9032\n",
      "Epoch 14/1024\n",
      "1788/1788 [==============================] - 34s 19ms/sample - loss: 0.1668 - acc: 0.9424\n",
      "Epoch 15/1024\n",
      "1788/1788 [==============================] - 34s 19ms/sample - loss: 0.2707 - acc: 0.8921\n",
      "Epoch 16/1024\n",
      "1788/1788 [==============================] - 34s 19ms/sample - loss: 0.3818 - acc: 0.8468\n",
      "Epoch 17/1024\n",
      "1344/1788 [=====================>........] - ETA: 8s - loss: 0.7213 - acc: 0.5357\n",
      "\n",
      "done.\n",
      "Please invoke the Learner.lr_plot() method to visually inspect the loss plot to help identify the maximal learning rate associated with falling loss.\n"
     ]
    }
   ],
   "source": [
    "learner.lr_find()"
   ]
  },
  {
   "cell_type": "code",
   "execution_count": 25,
   "metadata": {},
   "outputs": [
    {
     "data": {
      "image/png": "[encoded data removed]",
      "text/plain": [
       "<Figure size 432x288 with 1 Axes>"
      ]
     },
     "metadata": {
      "needs_background": "light"
     },
     "output_type": "display_data"
    }
   ],
   "source": [
    "learner.lr_plot()"
   ]
  },
  {
   "cell_type": "code",
   "execution_count": 26,
   "metadata": {
    "scrolled": true
   },
   "outputs": [
    {
     "name": "stdout",
     "output_type": "stream",
     "text": [
      "\n",
      "\n",
      "begin training using onecycle policy with max lr of 2e-05...\n",
      "Train on 1788 samples, validate on 447 samples\n",
      "Epoch 1/5\n",
      "1788/1788 [==============================] - 40s 22ms/sample - loss: 0.7808 - acc: 0.5347 - val_loss: 0.6646 - val_acc: 0.6421\n",
      "Epoch 2/5\n",
      "1788/1788 [==============================] - 37s 21ms/sample - loss: 0.6231 - acc: 0.6790 - val_loss: 0.5366 - val_acc: 0.7338\n",
      "Epoch 3/5\n",
      "1788/1788 [==============================] - 37s 21ms/sample - loss: 0.4582 - acc: 0.7707 - val_loss: 0.4538 - val_acc: 0.8009\n",
      "Epoch 4/5\n",
      "1788/1788 [==============================] - 37s 21ms/sample - loss: 0.3046 - acc: 0.8758 - val_loss: 0.4647 - val_acc: 0.7964\n",
      "Epoch 5/5\n",
      "1788/1788 [==============================] - 37s 21ms/sample - loss: 0.1672 - acc: 0.9418 - val_loss: 0.4650 - val_acc: 0.8188\n"
     ]
    },
    {
     "data": {
      "text/plain": [
       "<tensorflow.python.keras.callbacks.History at 0x7f2eb729ff90>"
      ]
     },
     "execution_count": 26,
     "metadata": {},
     "output_type": "execute_result"
    }
   ],
   "source": [
    "# 2e-5 is one of the LRs  recommended by Google and is consistent with the plot above.\n",
    "learner.fit_onecycle(2e-5, 5)"
   ]
  },
  {
   "cell_type": "code",
   "execution_count": 27,
   "metadata": {},
   "outputs": [],
   "source": [
    "predictor = ktrain.get_predictor(learner.model, preproc)"
   ]
  },
  {
   "cell_type": "code",
   "execution_count": 28,
   "metadata": {},
   "outputs": [
    {
     "data": {
      "text/html": [],
      "text/plain": [
       "<IPython.core.display.HTML object>"
      ]
     },
     "metadata": {},
     "output_type": "display_data"
    }
   ],
   "source": [
    "pred = predictor.predict(X_test)"
   ]
  },
  {
   "cell_type": "code",
   "execution_count": 29,
   "metadata": {},
   "outputs": [],
   "source": [
    "slicing_num = len(pred)"
   ]
  },
  {
   "cell_type": "code",
   "execution_count": 30,
   "metadata": {},
   "outputs": [],
   "source": [
    "count = 0\n",
    "\n",
    "for i in range(slicing_num):\n",
    "#     print('pred:', pred[i])\n",
    "#     print('y_test', y_test[i])\n",
    "    if pred[i] == y_test[i]:\n",
    "        count = count + 1"
   ]
  },
  {
   "cell_type": "code",
   "execution_count": 31,
   "metadata": {},
   "outputs": [
    {
     "data": {
      "text/plain": [
       "0.8187919463087249"
      ]
     },
     "execution_count": 31,
     "metadata": {},
     "output_type": "execute_result"
    }
   ],
   "source": [
    "float(count / slicing_num)"
   ]
  },
  {
   "cell_type": "code",
   "execution_count": null,
   "metadata": {},
   "outputs": [],
   "source": []
  }
 ],
 "metadata": {
  "kernelspec": {
   "display_name": "Python 3",
   "language": "python",
   "name": "python3"
  },
  "language_info": {
   "codemirror_mode": {
    "name": "ipython",
    "version": 3
   },
   "file_extension": ".py",
   "mimetype": "text/x-python",
   "name": "python",
   "nbconvert_exporter": "python",
   "pygments_lexer": "ipython3",
   "version": "3.7.4"
  }
 },
 "nbformat": 4,
 "nbformat_minor": 2
}
